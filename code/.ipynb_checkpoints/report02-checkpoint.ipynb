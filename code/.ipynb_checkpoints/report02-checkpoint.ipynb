{
 "cells": [
  {
   "cell_type": "markdown",
   "metadata": {},
   "source": [
    "Andrew Pan\n",
    "\n",
    "This work is licensed under a [Creative Commons Attribution 4.0 International License](https://creativecommons.org/licenses/by/4.0/)\n",
    "\n",
    "# Computational Bayesian Statistics Report 2"
   ]
  },
  {
   "cell_type": "markdown",
   "metadata": {},
   "source": [
    "# Bayes Theorem Problems\n",
    "\n",
    "## Chess Problem\n",
    "\n",
    "Two identical twins are members of my chess club, but they never show up on the same day; in fact, they strictly alternate the days they show up.  I can't tell them apart except that one is a better player than the other:  Avery beats me 60% of the time and I beat Blake 70% of the time.  If I play one twin on Monday and win, and the other twin on Tuesday and lose, which twin did I play on which day?"
   ]
  },
  {
   "cell_type": "markdown",
   "metadata": {},
   "source": [
    "### Answer\n",
    "\n",
    "To solve this problem, we first need to find our hypotheses and their respective likelihoods.  Because the twins show up on alternating days, and this problem involves two consecutive days, we know that the twins either played in the order of Avery on Monday and Blake on Tuesday, or Blake on Monday and Avery on Tuesday.  We only need to know which twin showed up on Monday to infer that the other twin showed up on Tuesday, so for now we will only be concerned with Monday.  There isn't any information on which twin showed up on Monday, but since they are identical we will assume there is a 50% chance.  We will first create a pmf for these two hypotheses and their prior data:"
   ]
  },
  {
   "cell_type": "code",
   "execution_count": 78,
   "metadata": {
    "collapsed": false
   },
   "outputs": [],
   "source": [
    "from thinkbayes2 import Pmf, Suite, Cdf\n",
    "pmf = Pmf(dict(Avery = .5, Blake = .5))"
   ]
  },
  {
   "cell_type": "markdown",
   "metadata": {},
   "source": [
    "Next, we determine the likelihoods for each hypothesis.  In the case of Avery showing up on Monday, the probability of winning on Monday is 40% and losing on Tueday is 30%.  The likelihood of this occurence happening is the product of the two individual probabilities, and will be multiplied with the prior data to find the posterior.  The same operation can be performed on the other hypothesis, with a 70% chance of winning on Monday against Blake and a 60% chance of losing on Tuesday:"
   ]
  },
  {
   "cell_type": "code",
   "execution_count": 79,
   "metadata": {
    "collapsed": true
   },
   "outputs": [],
   "source": [
    "pmf['Avery'] *= .4 * .3\n",
    "pmf['Blake'] *= .7 * .6"
   ]
  },
  {
   "cell_type": "markdown",
   "metadata": {},
   "source": [
    "All that's left to do is normalize the posterior data"
   ]
  },
  {
   "cell_type": "code",
   "execution_count": 80,
   "metadata": {
    "collapsed": false
   },
   "outputs": [
    {
     "name": "stdout",
     "output_type": "stream",
     "text": [
      "Avery 0.22222222222222218\n",
      "Blake 0.7777777777777777\n"
     ]
    }
   ],
   "source": [
    "pmf.Normalize()\n",
    "pmf.Print()"
   ]
  },
  {
   "cell_type": "markdown",
   "metadata": {},
   "source": [
    "Based on this result, there is a 78% probability that Blake showed up on Monday and Avery showed up on Tuesday"
   ]
  },
  {
   "cell_type": "markdown",
   "metadata": {},
   "source": [
    "## Hold'em Problem\n",
    "\n",
    "From https://www.pokernews.com/strategy/call-or-fold-bayes-theorem-poker-uncertainty-2-24133.htm\n",
    "\n",
    "Let’s imagine you’re playing a heads-up cash game for all the money you have in the world. (Which is a bad idea. Don’t ever do that.) Your opponent is named Teddy, and he bears an uncanny resemblance to John Malkovich.\n",
    "\n",
    "You’ve been playing for many hours, and because you are observant, you have been able to build a good mental database of how Teddy plays. When he bets on the river, about 60% of the time it’s a value bet; he’s bluffing about 40%.\n",
    "\n",
    "So now you’re facing just such a river bet, and your hand is, say, top pair with a mediocre kicker. It’s functionally just a bluff-catcher. If you think Teddy is value betting, it’s surely with a better hand than yours, and you should fold. You’ll call only if you conclude that he’s bluffing.\n",
    "\n",
    "Fortunately, you have picked up a tell on Teddy. He has a tray full of Oreo cookies next to him as he plays. When he’s waiting for you to make a decision, he’ll pick one up and twist it open. His tell is that when he’s strong, he’ll then eat the cookie, but when he’s bluffing, he puts it together again and back into the tray.\n",
    "\n",
    "Unfortunately, this tell, like most others, is imperfect. Sometimes he’s bluffing but eats the cookie, anyway, and sometimes he’s value betting but puts the cookie away. Your careful tally shows that when he’s bluffing, he’ll put the cookie away 80% of the time, but eat it about 20% of the time. When he’s value betting, those numbers are reversed. Note that this is a very good tell — about 80% accurate, making it much more reliable than most.\n",
    "\n",
    "On this particular hand, as you’re pondering your action, he puts the cookie back. Should you call or fold? "
   ]
  },
  {
   "cell_type": "markdown",
   "metadata": {},
   "source": [
    "### Answer\n",
    "\n",
    "To give this problem a bit of context, I'll explain some of the poker terminology.  This scenario takes place in a heads-up game of Texas hold'em, meaning there are only two players.  In Texas hold'em, each player is dealt two cards, and communal cards are dealt in the center with bets taking place before and after the first three, the fourth, and the fifth.  A river bet is a bet after the fifth card has been dealt, and the description of your hand as a \"top pair with a mediocre kicker\" means that with your hand and the community cards, the best play you have is the highest pair on the board, and a single mediocre card.  To solve this problem, we can first determine the priors: Teddy's river bets are an actual bet 60% of the time, and a bluff 40%.  We will create a Pmf object and assign the data to it."
   ]
  },
  {
   "cell_type": "code",
   "execution_count": 81,
   "metadata": {
    "collapsed": true
   },
   "outputs": [],
   "source": [
    "pmf = Pmf(dict(Bet = .6, Bluff = .4))"
   ]
  },
  {
   "cell_type": "markdown",
   "metadata": {},
   "source": [
    "Since Teddy put the Oreo back into his tray, we can now determine the likelihoods to multiply the prior data by.  Because he puts the cookie away 80% of the time when bluffing, we will multiply the \"Bluff\" hypothesis prior by 0.8, and the \"Bet\" hypothesis prior by 0.2 to obtain the posterior data."
   ]
  },
  {
   "cell_type": "code",
   "execution_count": 82,
   "metadata": {
    "collapsed": true
   },
   "outputs": [],
   "source": [
    "pmf['Bet'] *= .2\n",
    "pmf['Bluff'] *= .8"
   ]
  },
  {
   "cell_type": "markdown",
   "metadata": {},
   "source": [
    "Now that we have our posterior data, we just have to normalize it."
   ]
  },
  {
   "cell_type": "code",
   "execution_count": 83,
   "metadata": {
    "collapsed": false
   },
   "outputs": [
    {
     "name": "stdout",
     "output_type": "stream",
     "text": [
      "Bet 0.2727272727272727\n",
      "Bluff 0.7272727272727273\n"
     ]
    }
   ],
   "source": [
    "pmf.Normalize()\n",
    "pmf.Print()"
   ]
  },
  {
   "cell_type": "markdown",
   "metadata": {},
   "source": [
    "Given Teddy's tell, there is a 73% chance that he is bluffing on this hand, making for favorable odds to call his bet!\n",
    "\n",
    "But what if Teddy is a much tighter player, and his river bets are 90% strong hands and 10% bluffs?  We'll apply the same operations as above, but with the new prior data."
   ]
  },
  {
   "cell_type": "code",
   "execution_count": 84,
   "metadata": {
    "collapsed": false
   },
   "outputs": [
    {
     "name": "stdout",
     "output_type": "stream",
     "text": [
      "Bet 0.6923076923076923\n",
      "Bluff 0.3076923076923077\n"
     ]
    }
   ],
   "source": [
    "pmf = Pmf(dict(Bet = .9, Bluff = .1))\n",
    "pmf['Bet'] *= .2\n",
    "pmf['Bluff'] *= .8\n",
    "pmf.Normalize()\n",
    "pmf.Print()"
   ]
  },
  {
   "cell_type": "markdown",
   "metadata": {},
   "source": [
    "In this case, there is only a 31% chance that Teddy is bluffing, and a 69% chance that he actually has a strong hand.  In this case, it is most likely in your best decision to fold and wait for the next round to continue betting."
   ]
  },
  {
   "cell_type": "markdown",
   "metadata": {},
   "source": [
    "## Euro Problem\n",
    "\n",
    "\n",
    "Suppose you believe that most coins are fair or unlikely to deviate from 50% by more than a few percentage points.  Construct a prior that captures this belief and update it with the Euro data.  How much effect does it have on the posterior, compared to the uniform prior?"
   ]
  },
  {
   "cell_type": "code",
   "execution_count": 85,
   "metadata": {
    "collapsed": true
   },
   "outputs": [],
   "source": [
    "from scipy import special\n",
    "\n",
    "class Beta:\n",
    "    \"\"\"Represents a Beta distribution.\n",
    "\n",
    "    See http://en.wikipedia.org/wiki/Beta_distribution\n",
    "    \"\"\"\n",
    "    def __init__(self, alpha=1, beta=1, label=None):\n",
    "        \"\"\"Initializes a Beta distribution.\"\"\"\n",
    "        self.alpha = alpha\n",
    "        self.beta = beta\n",
    "        self.label = label if label is not None else '_nolegend_'\n",
    "\n",
    "    def Update(self, data):\n",
    "        \"\"\"Updates a Beta distribution.\n",
    "\n",
    "        data: pair of int (heads, tails)\n",
    "        \"\"\"\n",
    "        heads, tails = data\n",
    "        self.alpha += heads\n",
    "        self.beta += tails\n",
    "\n",
    "    def Mean(self):\n",
    "        \"\"\"Computes the mean of this distribution.\"\"\"\n",
    "        return self.alpha / (self.alpha + self.beta)\n",
    "\n",
    "    def MAP(self):\n",
    "        \"\"\"Computes the value with maximum a posteori probability.\"\"\"\n",
    "        a = self.alpha - 1\n",
    "        b = self.beta - 1\n",
    "        return a / (a + b)\n",
    "\n",
    "    def Random(self):\n",
    "        \"\"\"Generates a random variate from this distribution.\"\"\"\n",
    "        return random.betavariate(self.alpha, self.beta)\n",
    "\n",
    "    def Sample(self, n):\n",
    "        \"\"\"Generates a random sample from this distribution.\n",
    "\n",
    "        n: int sample size\n",
    "        \"\"\"\n",
    "        size = n,\n",
    "        return np.random.beta(self.alpha, self.beta, size)\n",
    "\n",
    "    def EvalPdf(self, x):\n",
    "        \"\"\"Evaluates the PDF at x.\"\"\"\n",
    "        return x ** (self.alpha - 1) * (1 - x) ** (self.beta - 1)\n",
    "\n",
    "    def MakePmf(self, steps=101, label=None):\n",
    "        \"\"\"Returns a Pmf of this distribution.\n",
    "\n",
    "        Note: Normally, we just evaluate the PDF at a sequence\n",
    "        of points and treat the probability density as a probability\n",
    "        mass.\n",
    "\n",
    "        But if alpha or beta is less than one, we have to be\n",
    "        more careful because the PDF goes to infinity at x=0\n",
    "        and x=1.  In that case we evaluate the CDF and compute\n",
    "        differences.\n",
    "\n",
    "        The result is a little funny, because the values at 0 and 1\n",
    "        are not symmetric.  Nevertheless, it is a reasonable discrete\n",
    "        model of the continuous distribution, and behaves well as\n",
    "        the number of values increases.\n",
    "        \"\"\"\n",
    "        if label is None and self.label is not None:\n",
    "            label = self.label\n",
    "\n",
    "        if self.alpha < 1 or self.beta < 1:\n",
    "            cdf = self.MakeCdf()\n",
    "            pmf = cdf.MakePmf()\n",
    "            return pmf\n",
    "\n",
    "        xs = [i / (steps - 1) for i in range(steps)]\n",
    "        probs = [self.EvalPdf(x) for x in xs]\n",
    "        pmf = Pmf(dict(zip(xs, probs)), label=label)\n",
    "        return pmf\n",
    "\n",
    "    def MakeCdf(self, steps=101):\n",
    "        \"\"\"Returns the CDF of this distribution.\"\"\"\n",
    "        xs = [i / (steps - 1) for i in range(steps)]\n",
    "        ps = special.betainc(self.alpha, self.beta, xs)\n",
    "        cdf = Cdf(xs, ps)\n",
    "        return cdf\n",
    "\n",
    "    def Percentile(self, ps):\n",
    "        \"\"\"Returns the given percentiles from this distribution.\n",
    "\n",
    "        ps: scalar, array, or list of [0-100]\n",
    "        \"\"\"\n",
    "        ps = np.asarray(ps) / 100\n",
    "        xs = special.betaincinv(self.alpha, self.beta, ps)\n",
    "        return xs"
   ]
  },
  {
   "cell_type": "markdown",
   "metadata": {},
   "source": [
    "### Answer\n",
    "\n",
    "Using the Beta class defined above, we can define a distribution that is centered around 0.5 by choosing equal values for alpha and beta that are both greater than 1:"
   ]
  },
  {
   "cell_type": "code",
   "execution_count": 86,
   "metadata": {
    "collapsed": false
   },
   "outputs": [
    {
     "name": "stdout",
     "output_type": "stream",
     "text": [
      "0.5576923076923077\n"
     ]
    },
    {
     "data": {
      "image/png": "[encoded data removed]",
      "text/plain": [
       "<matplotlib.figure.Figure at 0x7f5740b7d8d0>"
      ]
     },
     "metadata": {},
     "output_type": "display_data"
    }
   ],
   "source": [
    "import thinkplot\n",
    "% matplotlib inline\n",
    "b = Beta(5, 5)\n",
    "b.Update((140, 110))\n",
    "print(b.Mean())\n",
    "thinkplot.Pdf(b.MakePmf())"
   ]
  },
  {
   "cell_type": "markdown",
   "metadata": {},
   "source": [
    "Compared to the result for a uniform distribution:"
   ]
  },
  {
   "cell_type": "code",
   "execution_count": 87,
   "metadata": {
    "collapsed": false
   },
   "outputs": [
    {
     "name": "stdout",
     "output_type": "stream",
     "text": [
      "0.5595238095238095\n"
     ]
    },
    {
     "data": {
      "image/png": "[encoded data removed]",
      "text/plain": [
       "<matplotlib.figure.Figure at 0x7f57401de160>"
      ]
     },
     "metadata": {},
     "output_type": "display_data"
    }
   ],
   "source": [
    "beta = Beta()\n",
    "beta.Update((140, 110))\n",
    "print(beta.Mean())\n",
    "thinkplot.Pdf(beta.MakePmf())"
   ]
  },
  {
   "cell_type": "markdown",
   "metadata": {},
   "source": [
    "Inputing a prior that is more focused around 50% slightly decreases the mean of the pmf after updating, and slightly shifts the distribution towards the center."
   ]
  },
  {
   "cell_type": "markdown",
   "metadata": {},
   "source": [
    "## Kim Rhode Problem\n",
    "\n",
    "At the 2016 Summer Olympics in the Women's Skeet event, Kim Rhode faced Wei Meng in the bronze medal match.  They each hit 15 of 25 skeets, sending the match into sudden death.  In the first round, both hit 1 of 2 skeets.  In the next two rounds, they each hit 2 skeets.  Finally, in the fourth round, Rhode hit 2 and Wei hit 1, so Rhode won the bronze medal, making her the first Summer Olympian to win an individual medal at six consecutive summer games.\n",
    "\n",
    "But after all that shooting, what is the probability that Rhode is actually a better shooter than Wei?  If the same match were held again, what is the probability that Rhode would win?\n",
    "\n",
    "As always, you will have to make some modeling decisions, but one approach is to estimate, for each shooter, the probability of hitting a skeet.  Then, to estimate the probability that Rhode is a better shooter, you can draw samples from the two posterior distributions and compare them.  To estimate the probability of winning a rematch, you could draw samples from the posterior distributions and simulate a round of 25 shots."
   ]
  },
  {
   "cell_type": "markdown",
   "metadata": {},
   "source": [
    "### Answer\n",
    "\n",
    "To start with, the probability of skeet shooters having a uniform distribution of probabilities of hitting a skeet is inaccurate, but since we don't have a large amount of data the alpha and beta values should only be slightly changed to produce a curve in the distribution.  Next, we update each shooter's Beta class with the number of skeets they hit and missed.  \n",
    "\n",
    "To determine the probability of Rhode being a better shooter than Wei, we can create a Cdf for a large number of sample data based off of the current probability distribution in the Beta classes.  Using numpy's mean function, we can compute the percentage of sample trials in which Rhode had a higher score than Wei.\n",
    "\n",
    "To determine the probability that Rhode would win again in a rematch, we can use numpy's random.binomial function to create a set of skeet shots for Rhode and Wei based off of the Cdf data again, and count the number of times that Rhode's score is greater than Wei's."
   ]
  },
  {
   "cell_type": "code",
   "execution_count": 88,
   "metadata": {
    "collapsed": false
   },
   "outputs": [
    {
     "name": "stdout",
     "output_type": "stream",
     "text": [
      "Probability that Rhode is a better shooter: 0.5945\n",
      "Probability that Rhode would win a rematch: 0.5182\n"
     ]
    }
   ],
   "source": [
    "import numpy as np\n",
    "\n",
    "rhode = Beta(2, 2)\n",
    "rhode.Update((22, 11))\n",
    "wei = Beta(2, 2)\n",
    "wei.Update((21, 12))\n",
    "\n",
    "rhode_sample = rhode.MakeCdf(10001).Sample(10000)\n",
    "wei_sample = wei.MakeCdf(10001).Sample(10000)\n",
    "print('Probability that Rhode is a better shooter: ' + str(np.mean(rhode_sample > wei_sample)))\n",
    "\n",
    "rhode_rematch = np.random.binomial(25, rhode_sample)\n",
    "wei_rematch = np.random.binomial(25, wei_sample)\n",
    "count = 0\n",
    "for p1, p2 in zip(rhode_rematch, wei_rematch):\n",
    "    count += 1 if p1 > p2 else 0\n",
    "print('Probability that Rhode would win a rematch: ' + str(count/len(rhode_rematch)))"
   ]
  },
  {
   "cell_type": "markdown",
   "metadata": {},
   "source": [
    "## Unreliable Coin Problem\n",
    "\n",
    "Suppose that instead of observing coin tosses directly, you measure the outcome using an instrument that is not always correct. Specifically, suppose there is a probability `y` that an actual heads is reported as tails, or actual tails reported as heads.\n",
    "\n",
    "Write a class that estimates the bias of a coin given a series of outcomes and the value of `y`.\n",
    "\n",
    "How does the spread of the posterior distribution depend on `y`?"
   ]
  },
  {
   "cell_type": "markdown",
   "metadata": {},
   "source": [
    "### Answer\n",
    "\n",
    "To solve this question, we first need to create a class to reflect a coin flip with a probability y for the result to be read incorrectly:"
   ]
  },
  {
   "cell_type": "code",
   "execution_count": 89,
   "metadata": {
    "collapsed": true
   },
   "outputs": [],
   "source": [
    "class badCoinMeasure(Beta):\n",
    "    def __init__(self, alpha=1, beta=1, y = 0, label=None):\n",
    "        \"\"\"Initializes a Beta distribution.\"\"\"\n",
    "        self.alpha = alpha\n",
    "        self.beta = beta\n",
    "        self.y = y\n",
    "        self.label = label if label is not None else '_nolegend_'\n",
    "        \n",
    "    def Update(self, data):\n",
    "        \"\"\"Updates a Beta distribution.\n",
    "\n",
    "        data: pair of int (heads, tails)\n",
    "        \"\"\"\n",
    "        heads, tails = data\n",
    "        self.alpha += heads * (1-self.y)\n",
    "        self.beta += tails * (1-self.y)"
   ]
  },
  {
   "cell_type": "markdown",
   "metadata": {},
   "source": [
    "Next, we can create multiple Beta distributions using our new class for varying values of y.  We will use alpha and beta values of 3, because we know that the probability distribution of coin tosses should not be uniform, but might not be significantly focused around 0.5:"
   ]
  },
  {
   "cell_type": "code",
   "execution_count": 90,
   "metadata": {
    "collapsed": false
   },
   "outputs": [
    {
     "data": {
      "image/png": "[encoded data removed]",
      "text/plain": [
       "<matplotlib.figure.Figure at 0x7f5748087c18>"
      ]
     },
     "metadata": {},
     "output_type": "display_data"
    }
   ],
   "source": [
    "b = badCoinMeasure(3, 3)\n",
    "b1 = badCoinMeasure(3, 3, .2)\n",
    "b2 = badCoinMeasure(3, 3, .4)\n",
    "b3 = badCoinMeasure(3, 3, .6)\n",
    "b4 = badCoinMeasure(3, 3, .8)\n",
    "\n",
    "b.Update((140, 110))\n",
    "b1.Update((140, 110))\n",
    "b2.Update((140, 110))\n",
    "b3.Update((140, 110))\n",
    "b4.Update((140, 110))\n",
    "\n",
    "thinkplot.Pdf(b.MakePmf())\n",
    "thinkplot.Pdf(b1.MakePmf())\n",
    "thinkplot.Pdf(b2.MakePmf())\n",
    "thinkplot.Pdf(b3.MakePmf())\n",
    "thinkplot.Pdf(b4.MakePmf())"
   ]
  },
  {
   "cell_type": "markdown",
   "metadata": {},
   "source": [
    "In the plot, lighter colored lines represent the distrbutions of higher y values.  For larger values of y, the posterior distribution is slightly wider and shorter, because there is a lower probability that the recorded measurement was actually correct for any given coin toss."
   ]
  },
  {
   "cell_type": "markdown",
   "metadata": {},
   "source": [
    "## Original Bayes Theorem Problem\n",
    "\n",
    "In the everlasting greens of Bunnyland, bunnies roam freely and do what bunnies do best: mate.  The bunnies of Bunnyland mate progressively more often as the temperature becomes warmer, and rarely mate when the weather is cold.  Each time a pair of bunnies mate, there is a 30% chance of conception, and a bunny will be born 2 months later.  Unfortunately, the birth puts a lot of strain on the mother, and on average 50% of mothers in Bunnyland die a month after birth.  \n",
    "\n",
    "I decide to take a trip to Bunnyland in December and meet the bunnies born this past year.  If I only find 5 new bunnies born that December, what is the probability that the next new bunny found was conceived in the summer and its mother is still alive?"
   ]
  },
  {
   "cell_type": "markdown",
   "metadata": {},
   "source": [
    "### Answer\n",
    "\n",
    "The first step in solving this problem is to define a Beta distribution for the mating pattern of the bunnies.  We know that the bunnies mate in accordance with the temperature, so we can define a Beta distrubtion and x-axis such that mating is more likely to occur in the warmer summer months than in the colder winter ones.  Treating the far left of the plot as January and the far right as December, we can treat the middle section as the summer months, and plotting a simple curve over this axis gives an approximate model of our system.  We will choose alpha and beta values to represent the peak of summer in July, the seventh month of the year."
   ]
  },
  {
   "cell_type": "code",
   "execution_count": 98,
   "metadata": {
    "collapsed": false
   },
   "outputs": [
    {
     "data": {
      "image/png": "[encoded data removed]",
      "text/plain": [
       "<matplotlib.figure.Figure at 0x7f5740249f98>"
      ]
     },
     "metadata": {},
     "output_type": "display_data"
    }
   ],
   "source": [
    "b = Beta(7, 5)\n",
    "thinkplot.Pdf(b.MakePmf())"
   ]
  },
  {
   "cell_type": "markdown",
   "metadata": {},
   "source": [
    "The actual chance of conception is irrelevant, as multiplying a values in the distribution by 0.3 wouldn't do anything since the distribution would eventually be normalized.  Next, we need to update the Beta distribution with some of the given data.  We have 5 bunnies born in December, and since our plot is already configured with January and December at the ends, we just need to call an Update with a tuple argument of 5 and 0.  Recall that the first point in the tuple was treated as a Heads in the Euro problem and a hit skeet in the Kim Rhodes problem, and will be treated as December here."
   ]
  },
  {
   "cell_type": "code",
   "execution_count": 99,
   "metadata": {
    "collapsed": false
   },
   "outputs": [
    {
     "data": {
      "image/png": "[encoded data removed]",
      "text/plain": [
       "<matplotlib.figure.Figure at 0x7f5740244c50>"
      ]
     },
     "metadata": {},
     "output_type": "display_data"
    }
   ],
   "source": [
    "b.Update((5, 0))\n",
    "thinkplot.Pdf(b.MakePmf())"
   ]
  },
  {
   "cell_type": "markdown",
   "metadata": {},
   "source": [
    "Here is the tricky part: we need to determine the probability of the mother of the next bunny we find still being alive.  All that really matters here is the probability distribution of the conception month of the next bunny caught.  Because the bunnies take 2 months to be born, the probability of a bunny being conceived after October is 0.  Furthermore, because 50% of the mothers die only a month after birth, the mothers of bunnies conceived after September will not have died, while all other mothers only have a 50% probability of still being alive.  \n",
    "\n",
    "To include this information, we can set the probabilities of bunnies conceived from November onwards to 0, and half the probabilities of bunnies conceived before October."
   ]
  },
  {
   "cell_type": "code",
   "execution_count": 100,
   "metadata": {
    "collapsed": false
   },
   "outputs": [
    {
     "data": {
      "image/png": "[encoded data removed]",
      "text/plain": [
       "<matplotlib.figure.Figure at 0x7f57401ebe48>"
      ]
     },
     "metadata": {},
     "output_type": "display_data"
    }
   ],
   "source": [
    "pmf = b.MakePmf()\n",
    "for k, d in pmf.Items():\n",
    "    if k > (10/12): #month indexing starts at 0, with 0/12 being the start of January and 12/12 being the end of December\n",
    "        pmf[k] = 0\n",
    "    elif k <= (9/12):\n",
    "        pmf[k] = .5 * d\n",
    "thinkplot.Pdf(pmf)"
   ]
  },
  {
   "cell_type": "markdown",
   "metadata": {},
   "source": [
    "Now that we have our probability distribution for surviving bunny mothers' conception time, we just need to find the probability for summer births.  This probability is just the sum of all probabilities in the summer range of June to August."
   ]
  },
  {
   "cell_type": "code",
   "execution_count": 101,
   "metadata": {
    "collapsed": false
   },
   "outputs": [
    {
     "name": "stdout",
     "output_type": "stream",
     "text": [
      "0.1634609187692455\n"
     ]
    }
   ],
   "source": [
    "print(sum([prob for val, prob in pmf.Items() if(val >= (5/12) and val <= (8/12))]))"
   ]
  },
  {
   "cell_type": "markdown",
   "metadata": {},
   "source": [
    "And so the probability of finding a bunny who was conceived during the summer and whose mother is still alive is 16%!"
   ]
  },
  {
   "cell_type": "code",
   "execution_count": null,
   "metadata": {
    "collapsed": true
   },
   "outputs": [],
   "source": []
  }
 ],
 "metadata": {
  "kernelspec": {
   "display_name": "Python 3",
   "language": "python",
   "name": "python3"
  },
  "language_info": {
   "codemirror_mode": {
    "name": "ipython",
    "version": 3
   },
   "file_extension": ".py",
   "mimetype": "text/x-python",
   "name": "python",
   "nbconvert_exporter": "python",
   "pygments_lexer": "ipython3",
   "version": "3.5.1"
  }
 },
 "nbformat": 4,
 "nbformat_minor": 0
}
