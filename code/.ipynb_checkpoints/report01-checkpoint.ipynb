{
 "cells": [
  {
   "cell_type": "markdown",
   "metadata": {
    "collapsed": false
   },
   "source": [
    "The fictional university of ZombieLand - has n students volunteer for the role of Killing Assistants, student volunteers who help in smooth killing of zombies in the campus. Every student can either manage to shoot a zombie or miss it.\n",
    "\n",
    "Out of these n Killing Assistants, m students try to shoot the zombie fairly, that is, they are unbiased, while the rest of them are biased. The probability that a zombie will be hit by a shot if the Killing Assistant is biased is 2/3, otherwise the probability is 1/2.\n",
    "\n",
    "Little Harry figures out this mess by selecting a Killing Assistant randomly. He tricks that particular Killing Assistant in shooting the same zombie twice. The first time, the Killing Assistant shoots the zombie, while the other time, he ends up missing it.\n",
    "\n",
    "Harry wants to know what are the chances that the selected Killing Assistant was NOT biased."
   ]
  },
  {
   "cell_type": "code",
   "execution_count": 6,
   "metadata": {
    "collapsed": false
   },
   "outputs": [
    {
     "name": "stdout",
     "output_type": "stream",
     "text": [
      "Biased 0.47058823529411764\n",
      "Unbiased 0.5294117647058824\n"
     ]
    }
   ],
   "source": [
    "# To get a constant answer, we will attempt to solve this problem in the case where m/n = 1/2.\n",
    "# Because there is a 50% chance of the Killing Assistant being biased, we can set the priors for both hypotheses (biased and unbiased)\n",
    "# to 0.5\n",
    "import thinkbayes2\n",
    "prior = thinkbayes2.Suite({'Biased': 0.5, 'Unbiased': 0.5})\n",
    "\n",
    "# The Killing Assistant shot the zonbie twice, hitting first then missing.  For a biased Assistant, the likelihood of \n",
    "# this event would be 2/3 * 1/3 = 1/9, as biased assistants have a 2/3 chance of hitting their target zombie.  An\n",
    "# unbiased Assistant has a likelihood of 1/2 * 1/2 = 1/4.\n",
    "likelihood = {'Biased': 2/9, 'Unbiased': 1/4}\n",
    "\n",
    "# In order to solve this problem, we simply multiply the values of the prior and likelihoods together and normalize the\n",
    "# resulting values to get the probability of the Killing Assistant in this event being biased.\n",
    "posterior = prior.Copy()\n",
    "for item in posterior:\n",
    "    posterior[item] *= likelihood[item]\n",
    "posterior.Normalize()\n",
    "posterior.Print()"
   ]
  },
  {
   "cell_type": "markdown",
   "metadata": {
    "collapsed": true
   },
   "source": [
    "To solve this Zombieland problem for arbitrary values of n and m, we can use the same method as above except adjusting the prior values for Biased and Unbiased according to the ratio of m/n, such that Unbiased = m/n and Biased = (1-m/n).  Multiplying these values with the likelihoods gives us posteriors of Biased = (2/9 - 2m/9n) and Unbiased = m/4n.  Again, these values must be normalized, giving us final probabilities of:\n",
    "Biased = (2/9 - 2m/9n)/(2/9 - 2m/9n + m/4n)\n",
    "Unbiased = (m/4n)/(2/9 - 2m/9n + m/4n) = m/(8n/9 - 8m/9 + m)"
   ]
  }
 ],
 "metadata": {
  "kernelspec": {
   "display_name": "Python 3",
   "language": "python",
   "name": "python3"
  },
  "language_info": {
   "codemirror_mode": {
    "name": "ipython",
    "version": 3
   },
   "file_extension": ".py",
   "mimetype": "text/x-python",
   "name": "python",
   "nbconvert_exporter": "python",
   "pygments_lexer": "ipython3",
   "version": "3.5.1"
  }
 },
 "nbformat": 4,
 "nbformat_minor": 0
}
